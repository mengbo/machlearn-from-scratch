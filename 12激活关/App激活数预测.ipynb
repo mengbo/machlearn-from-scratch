{
 "cells": [
  {
   "cell_type": "markdown",
   "metadata": {},
   "source": [
    "## 零基础实战机器学习\n",
    "\n",
    "## 第12讲 RNN预测App的激活数走势\n",
    "\n",
    "作者 黄佳\n",
    "\n",
    "极客时间专栏链接：https://time.geekbang.org/column/intro/438\n",
    "\n",
    "\n",
    "问题：根据App的历史激活（即下载后注册用户并使用App）数字，来预测其未来走势\n",
    "\n",
    "易速鲜花公司拥有过去两年App的日激活数。\n",
    "\n",
    "通过神经网络中的RNN模型，我们可以对这个时序数据集进行预测。\n"
   ]
  },
  {
   "cell_type": "markdown",
   "metadata": {},
   "source": [
    "## 数据的读入和预处理"
   ]
  },
  {
   "cell_type": "code",
   "execution_count": null,
   "metadata": {},
   "outputs": [],
   "source": [
    "import numpy as np #导入NumPy\n",
    "import pandas as pd #导入Pandas "
   ]
  },
  {
   "cell_type": "code",
   "execution_count": null,
   "metadata": {},
   "outputs": [],
   "source": [
    "df_app = pd.read_csv('app.csv', index_col='Date', parse_dates=['Date']) #导入数据\n",
    "df_app #显示数据"
   ]
  },
  {
   "cell_type": "code",
   "execution_count": null,
   "metadata": {},
   "outputs": [],
   "source": [
    "import matplotlib.pyplot as plt #导入matplotlib.pyplot\n",
    "plt.style.use('fivethirtyeight') #设定绘图风格\n",
    "df_app[\"Activation\"].plot(figsize=(12,4),legend=True) #绘制激活数\n",
    "plt.title('App Activation Count') #图题\n",
    "plt.show() #绘图"
   ]
  },
  {
   "cell_type": "markdown",
   "metadata": {},
   "source": [
    "### 数据清洗"
   ]
  },
  {
   "cell_type": "code",
   "execution_count": null,
   "metadata": {},
   "outputs": [],
   "source": [
    "df_app.isna().sum() #有NaN吗？"
   ]
  },
  {
   "cell_type": "code",
   "execution_count": null,
   "metadata": {},
   "outputs": [],
   "source": [
    "(df_app.Activation < 0).values.any() #有负值吗？"
   ]
  },
  {
   "cell_type": "markdown",
   "metadata": {},
   "source": [
    "### 拆分数据集"
   ]
  },
  {
   "cell_type": "code",
   "execution_count": null,
   "metadata": {},
   "outputs": [],
   "source": [
    "# 按照2020年10月1日为界拆分数据集\n",
    "Train = df_app[:'2020-09-30'].iloc[:,0:1].values #训练集\n",
    "Test = df_app['2020-10-01':].iloc[:,0:1].values #测试集"
   ]
  },
  {
   "cell_type": "code",
   "execution_count": null,
   "metadata": {},
   "outputs": [],
   "source": [
    "Train[0], Train[1], Train.size"
   ]
  },
  {
   "cell_type": "code",
   "execution_count": null,
   "metadata": {},
   "outputs": [],
   "source": [
    "print('训练集的形状是：', Train.shape)\n",
    "print('测试集的形状是：', Test.shape)"
   ]
  },
  {
   "cell_type": "code",
   "execution_count": null,
   "metadata": {},
   "outputs": [],
   "source": [
    "# 以不同颜色为训练集和测试集绘图\n",
    "df_app[\"Activation\"][:'2020-09-30'].plot(figsize=(12,4),legend=True) #训练集\n",
    "df_app[\"Activation\"]['2020-10-01':].plot(figsize=(12,4),legend=True) #测试集\n",
    "plt.legend(['Training set (Before October 2020)','Test set (2020 October and beyond)']) #图例\n",
    "plt.title('App Activation Count') #图题\n",
    "plt.show() #绘图"
   ]
  },
  {
   "cell_type": "markdown",
   "metadata": {},
   "source": [
    "### 特征工程"
   ]
  },
  {
   "cell_type": "code",
   "execution_count": null,
   "metadata": {},
   "outputs": [],
   "source": [
    "from sklearn.preprocessing import MinMaxScaler #导入归一化缩放器\n",
    "Scaler = MinMaxScaler(feature_range=(0,1)) #创建缩放器\n",
    "Train = Scaler.fit_transform(Train) #拟合缩放器并对训练集进行归一化"
   ]
  },
  {
   "cell_type": "markdown",
   "metadata": {},
   "source": [
    "### 构建特征集和标签集"
   ]
  },
  {
   "cell_type": "code",
   "execution_count": null,
   "metadata": {},
   "outputs": [],
   "source": [
    "# 创建具有 60 个时间步长和 1 个输出的数据结构 - 训练集\n",
    "X_train = [] #初始化\n",
    "y_train = [] #初始化\n",
    "for i in range(60,Train.size): \n",
    "    X_train.append(Train[i-60:i,0]) #构建特征\n",
    "    y_train.append(Train[i,0]) #构建标签\n",
    "X_train, y_train = np.array(X_train), np.array(y_train) #转换为NumPy数组\n",
    "X_train = np.reshape(X_train, (X_train.shape[0],X_train.shape[1],1)) #转换成神经网络所需的张量形状"
   ]
  },
  {
   "cell_type": "code",
   "execution_count": null,
   "metadata": {},
   "outputs": [],
   "source": [
    "TrainTest = df_app[\"Activation\"][:] #整体数据\n",
    "inputs = TrainTest[len(TrainTest)-len(Test) - 60:].values #Test加上前60个时间步\n",
    "inputs = inputs.reshape(-1,1) #转换形状\n",
    "inputs  = Scaler.transform(inputs) #归一化\n",
    "# 创建具有 60 个时间步长和 1 个输出的数据结构 - 测试集\n",
    "X_test = [] #初始化\n",
    "y_test = [] #初始化\n",
    "for i in range(60,inputs.size): \n",
    "    X_test.append(inputs[i-60:i,0]) #构建特征\n",
    "    y_test.append(inputs[i,0]) #构建标签\n",
    "X_test = np.array(X_test) #转换为NumPy数组\n",
    "X_test = np.reshape(X_test, (X_test.shape[0],X_test.shape[1],1)) #转换成神经网络所需的张量形状"
   ]
  },
  {
   "cell_type": "markdown",
   "metadata": {},
   "source": [
    "## 选择算法\n",
    "\n",
    "这里我们采用RNN神经网络两种算法"
   ]
  },
  {
   "cell_type": "markdown",
   "metadata": {},
   "source": [
    "### 神经网络模型"
   ]
  },
  {
   "cell_type": "code",
   "execution_count": null,
   "metadata": {},
   "outputs": [],
   "source": [
    "#!pip install keras\n",
    "#!pip install tensorflow"
   ]
  },
  {
   "cell_type": "code",
   "execution_count": null,
   "metadata": {},
   "outputs": [],
   "source": [
    "from keras.models import Sequential #导入序贯模型\n",
    "from keras.layers import Dense, LSTM #导入全连接层和LSTM层\n",
    "# from keras.optimizers import SGD\n",
    "# LSTM网络架构\n",
    "RNN_LSTM = Sequential() #序贯模型\n",
    "RNN_LSTM.add(LSTM(units=50, return_sequences=True, input_shape=(X_train.shape[1],1))) #输入层LSTM\n",
    "RNN_LSTM.add(LSTM(units=50, return_sequences=True)) #中间1层LSTM\n",
    "RNN_LSTM.add(LSTM(units=50, return_sequences=True)) #中间2层LSTM\n",
    "RNN_LSTM.add(LSTM(units=50)) #中间3层LSTM\n",
    "RNN_LSTM.add(Dense(units=1)) #输出层Dense\n",
    "RNN_LSTM.compile(optimizer='rmsprop',loss='mean_squared_error') #编译网络\n",
    "RNN_LSTM.summary() #输出神经网络结构信息"
   ]
  },
  {
   "cell_type": "code",
   "execution_count": null,
   "metadata": {},
   "outputs": [],
   "source": [
    "# 训练并保存训练历史信息\n",
    "history = RNN_LSTM.fit(X_train, y_train, # 指定训练集\n",
    "                  epochs=50,        # 指定训练的轮次\n",
    "                  batch_size=64,    # 指定数据批量\n",
    "                  validation_split=0.2) #这里直接从训练集数据中拆分验证集，更方便"
   ]
  },
  {
   "cell_type": "code",
   "execution_count": null,
   "metadata": {},
   "outputs": [],
   "source": [
    "def show_history(history): # 显示训练过程中的学习曲线\n",
    "    loss = history.history['loss'] #训练损失\n",
    "    val_loss = history.history['val_loss'] #验证损失\n",
    "    epochs = range(1, len(loss) + 1) #训练轮次\n",
    "    plt.figure(figsize=(12,4)) # 图片大小\n",
    "    plt.subplot(1, 2, 1) #子图1\n",
    "    plt.plot(epochs, loss, 'bo', label='Training loss') #训练损失\n",
    "    plt.plot(epochs, val_loss, 'b', label='Validation loss') #验证损失\n",
    "    plt.title('Training and validation loss') #图题\n",
    "    plt.xlabel('Epochs') #X轴文字\n",
    "    plt.ylabel('Loss') #Y轴文字\n",
    "    plt.legend() #图例\n",
    "    plt.show() #绘图 "
   ]
  },
  {
   "cell_type": "code",
   "execution_count": null,
   "metadata": {
    "scrolled": true
   },
   "outputs": [],
   "source": [
    "show_history(history) # 调用绘图函数"
   ]
  },
  {
   "cell_type": "code",
   "execution_count": null,
   "metadata": {},
   "outputs": [],
   "source": [
    "# 定义绘图函数\n",
    "def plot_predictions(test,predicted):\n",
    "    plt.plot(test, color='red',label='Real Count') #真值\n",
    "    plt.plot(predicted, color='blue',label='Predicted Count') #预测值\n",
    "    plt.title('Flower App Activation Prediction') #图题\n",
    "    plt.xlabel('Time') #X轴时间\n",
    "    plt.ylabel('Flower App Activation Count') #Y轴激活数\n",
    "    plt.legend() #图例\n",
    "    plt.show() #绘图"
   ]
  },
  {
   "cell_type": "code",
   "execution_count": null,
   "metadata": {},
   "outputs": [],
   "source": [
    "y_pred = RNN_LSTM.predict(X_test) #预测\n",
    "Pred = Scaler.inverse_transform(y_pred) #反归一化\n",
    "plot_predictions(Test,Pred) #绘图"
   ]
  },
  {
   "cell_type": "code",
   "execution_count": null,
   "metadata": {},
   "outputs": [],
   "source": [
    "import math #导入数学函数\n",
    "from sklearn.metrics import mean_squared_error\n",
    "def return_rmse(test,predicted): #定义均方损失函数\n",
    "    rmse = math.sqrt(mean_squared_error(test, predicted)) #均方损失\n",
    "    print(\"MSE损失值 {}.\".format(rmse))"
   ]
  },
  {
   "cell_type": "code",
   "execution_count": null,
   "metadata": {},
   "outputs": [],
   "source": [
    "return_rmse(y_test,y_pred) #计算均方损失"
   ]
  },
  {
   "cell_type": "code",
   "execution_count": null,
   "metadata": {},
   "outputs": [],
   "source": []
  }
 ],
 "metadata": {
  "kernelspec": {
   "display_name": "machlearn",
   "language": "python",
   "name": "machlearn"
  },
  "language_info": {
   "codemirror_mode": {
    "name": "ipython",
    "version": 3
   },
   "file_extension": ".py",
   "mimetype": "text/x-python",
   "name": "python",
   "nbconvert_exporter": "python",
   "pygments_lexer": "ipython3",
   "version": "3.9.12"
  }
 },
 "nbformat": 4,
 "nbformat_minor": 4
}
