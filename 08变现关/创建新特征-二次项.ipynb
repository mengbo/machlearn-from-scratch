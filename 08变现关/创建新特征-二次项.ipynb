{
 "cells": [
  {
   "cell_type": "markdown",
   "metadata": {},
   "source": [
    "# 零基础实战机器学习 源代码\n",
    "\n",
    "第8讲 特征工程-创建新特征的示例\n",
    "\n",
    "作者 黄佳\n",
    "\n",
    "极客时间专栏链接：https://time.geekbang.org/column/intro/438"
   ]
  },
  {
   "cell_type": "code",
   "execution_count": null,
   "metadata": {},
   "outputs": [],
   "source": [
    "import pandas as pd #导入Pandas\n",
    "import numpy as np #导入NumPy\n",
    "import matplotlib.pyplot as plt #导入绘图工具"
   ]
  },
  {
   "cell_type": "code",
   "execution_count": null,
   "metadata": {},
   "outputs": [],
   "source": [
    "df = pd.read_csv('特征构建示意数据集.csv') #导入数据\n",
    "df #显示数据"
   ]
  },
  {
   "cell_type": "code",
   "execution_count": null,
   "metadata": {},
   "outputs": [],
   "source": [
    "plt.scatter(df.X, df.Y) #X，Y散点图\n",
    "plt.xlabel('X值') #x轴\n",
    "plt.ylabel('Y值') #y轴"
   ]
  },
  {
   "cell_type": "code",
   "execution_count": null,
   "metadata": {},
   "outputs": [],
   "source": [
    "from sklearn.model_selection import train_test_split #导入train_test_split \n",
    "df_x = df['X'].to_frame() #特征集\n",
    "df_y = df['Y'] #标签集\n",
    "X_train, X_test, y_train, y_test = train_test_split(df_x,df_y,test_size=0.3, random_state = 0) #拆分数据集"
   ]
  },
  {
   "cell_type": "code",
   "execution_count": null,
   "metadata": {},
   "outputs": [],
   "source": [
    "from sklearn.linear_model import LinearRegression #导入LinearRegression\n",
    "model = LinearRegression() #创建模型\n",
    "model.fit(X_train, y_train) #拟合模型"
   ]
  },
  {
   "cell_type": "code",
   "execution_count": null,
   "metadata": {},
   "outputs": [],
   "source": [
    "plt.scatter(df.X, df.Y) #散点图\n",
    "plt.plot(X_test, model.predict(X_test),linestyle='--', color = 'red') #显示拟合曲线\n",
    "plt.xlabel('X值') #x轴\n",
    "plt.ylabel('Y值') #y轴"
   ]
  },
  {
   "cell_type": "code",
   "execution_count": null,
   "metadata": {},
   "outputs": [],
   "source": [
    "X2_train = X_train.copy() #新特征训练集\n",
    "X2_test = X_test.copy() #新特征测试集"
   ]
  },
  {
   "cell_type": "code",
   "execution_count": null,
   "metadata": {},
   "outputs": [],
   "source": [
    "X2_train['X2'] = X2_train['X']**2 #构建新特征X2\n",
    "X2_train.head() #显示新特征训练集"
   ]
  },
  {
   "cell_type": "code",
   "execution_count": null,
   "metadata": {},
   "outputs": [],
   "source": [
    "X2_test['X2'] = X2_test['X']**2 #构建新特征X2\n",
    "# X2_test #显示新特征测试集"
   ]
  },
  {
   "cell_type": "code",
   "execution_count": null,
   "metadata": {},
   "outputs": [],
   "source": [
    "model2 = LinearRegression() #创建新模型\n",
    "model2.fit(X2_train, y_train) #拟合新模型"
   ]
  },
  {
   "cell_type": "code",
   "execution_count": null,
   "metadata": {},
   "outputs": [],
   "source": [
    "plt.scatter(df.X, df.Y) #散点图\n",
    "# plt.plot(X_test, model.predict(X2_test),linestyle='--',color = 'red')\n",
    "plt.scatter(X_test, model2.predict(X2_test), linestyle='--', color = 'red') #新拟合函数曲线\n",
    "plt.xlabel('X值') #x轴\n",
    "plt.ylabel('Y值') #y轴"
   ]
  },
  {
   "cell_type": "code",
   "execution_count": null,
   "metadata": {},
   "outputs": [],
   "source": []
  }
 ],
 "metadata": {
  "kernelspec": {
   "display_name": "machlearn",
   "language": "python",
   "name": "machlearn"
  },
  "language_info": {
   "codemirror_mode": {
    "name": "ipython",
    "version": 3
   },
   "file_extension": ".py",
   "mimetype": "text/x-python",
   "name": "python",
   "nbconvert_exporter": "python",
   "pygments_lexer": "ipython3",
   "version": "3.9.12"
  }
 },
 "nbformat": 4,
 "nbformat_minor": 4
}
