{
 "cells": [
  {
   "cell_type": "code",
   "execution_count": null,
   "metadata": {
    "_cell_guid": "b1076dfc-b9ad-4769-8c92-a6c4dae69d19",
    "_uuid": "8f2839f25d086af736a60e9eeb907d3b93b6e0e5",
    "scrolled": true
   },
   "outputs": [],
   "source": [
    "# 导入最基本的数据处理工具\n",
    "# import numpy as np # 导入NumPy数学计算工具包\n",
    "import pandas as pd # 导入Pandas数据处理工具包"
   ]
  },
  {
   "cell_type": "code",
   "execution_count": null,
   "metadata": {},
   "outputs": [],
   "source": [
    "df_ads = pd.read_csv('易速鲜花微信软文.csv') # 读入数据\n",
    "# df_ads.astype(int)\n",
    "df_ads.head(10) # 显示前几行数据"
   ]
  },
  {
   "cell_type": "code",
   "execution_count": null,
   "metadata": {},
   "outputs": [],
   "source": [
    "df_ads.isna().sum() # NaN出现的次数"
   ]
  },
  {
   "cell_type": "code",
   "execution_count": null,
   "metadata": {},
   "outputs": [],
   "source": [
    "# df_ads['转发数'].fillna(df_ads['转发数'].mean(), inplace=True) # 用均值补值"
   ]
  },
  {
   "cell_type": "code",
   "execution_count": null,
   "metadata": {},
   "outputs": [],
   "source": [
    "df_ads = df_ads.dropna() # 删除NaN值"
   ]
  },
  {
   "cell_type": "code",
   "execution_count": null,
   "metadata": {},
   "outputs": [],
   "source": [
    "# 导入数据可视化所需要的库\n",
    "import matplotlib.pyplot as plt #Matplotlib – Python画图工具库\n",
    "import seaborn as sns #Seaborn – 统计学数据可视化工具库"
   ]
  },
  {
   "cell_type": "code",
   "execution_count": null,
   "metadata": {},
   "outputs": [],
   "source": [
    "plt.plot(df_ads['转发数'],df_ads['浏览量'],'r.', label='Training data') # 用matplotlib.pyplot的plot方法显示散点图\n",
    "plt.xlabel('转发数') # x轴Label\n",
    "plt.ylabel('浏览量') # y轴Label\n",
    "plt.legend() # 显示图例\n",
    "plt.show() # 显示绘图结果！"
   ]
  },
  {
   "cell_type": "code",
   "execution_count": null,
   "metadata": {},
   "outputs": [],
   "source": [
    "plt.plot(df_ads['点赞数'],df_ads['浏览量'],'r.', label='Training data') # 用matplotlib.pyplot的plot方法显示散点图\n",
    "plt.xlabel('点赞数') # x轴Label\n",
    "plt.ylabel('浏览量') # y轴Label\n",
    "plt.legend() # 显示图例\n",
    "plt.show() # 显示绘图结果！"
   ]
  },
  {
   "cell_type": "code",
   "execution_count": null,
   "metadata": {},
   "outputs": [],
   "source": [
    "data = pd.concat([df_ads['浏览量'], df_ads['热度指数']], axis=1) # 浏览量和热度指数\n",
    "fig = sns.boxplot(x='热度指数', y=\"浏览量\", data=data) # 用seaborn的箱线图画图\n",
    "fig.axis(ymin=0, ymax=800000); #设定y轴坐标"
   ]
  },
  {
   "cell_type": "code",
   "execution_count": null,
   "metadata": {},
   "outputs": [],
   "source": [
    "X = df_ads.drop(['浏览量'],axis=1) # 特征集，Drop掉便签相关字段\n",
    "y = df_ads.浏览量 # 标签集"
   ]
  },
  {
   "cell_type": "code",
   "execution_count": null,
   "metadata": {},
   "outputs": [],
   "source": [
    "X.head() # 显示前几行数据"
   ]
  },
  {
   "cell_type": "code",
   "execution_count": null,
   "metadata": {},
   "outputs": [],
   "source": [
    "y.head() # 显示前几行数据"
   ]
  },
  {
   "cell_type": "code",
   "execution_count": null,
   "metadata": {},
   "outputs": [],
   "source": [
    "# 将数据集进行80%（训练集）和20%（验证集）的分割\n",
    "from sklearn.model_selection import train_test_split\n",
    "X_train, X_test, y_train, y_test = train_test_split(X, y, \n",
    "                                   test_size=0.3, random_state=0)"
   ]
  },
  {
   "cell_type": "code",
   "execution_count": null,
   "metadata": {},
   "outputs": [],
   "source": [
    "from sklearn.linear_model import LinearRegression # 导入线性回归算法模型\n",
    "model = LinearRegression() # 使用线性回归算法创建模型"
   ]
  },
  {
   "cell_type": "code",
   "execution_count": null,
   "metadata": {},
   "outputs": [],
   "source": [
    "model.fit(X_train, y_train) #用训练集数据，训练机器，拟合函数，确定参数"
   ]
  },
  {
   "cell_type": "code",
   "execution_count": null,
   "metadata": {},
   "outputs": [],
   "source": []
  },
  {
   "cell_type": "code",
   "execution_count": null,
   "metadata": {},
   "outputs": [],
   "source": [
    "y_pred = model.predict(X_test) #预测测试集的Y值"
   ]
  },
  {
   "cell_type": "code",
   "execution_count": null,
   "metadata": {},
   "outputs": [],
   "source": [
    "df_ads_pred = X_test.copy() #测试集特征数据\n",
    "df_ads_pred['浏览量真值'] = y_test #测试集标签真值\n",
    "df_ads_pred['浏览量预测值'] = y_pred #测试集标签预测值\n",
    "df_ads_pred #显示数据"
   ]
  },
  {
   "cell_type": "code",
   "execution_count": null,
   "metadata": {},
   "outputs": [],
   "source": [
    "print(\"线性回归预测集评分：\", model.score(X_test, y_test)) #评估模型\n",
    "print(\"线性回归训练集评分：\", model.score(X_train, y_train)) #训练集评分"
   ]
  },
  {
   "cell_type": "code",
   "execution_count": null,
   "metadata": {},
   "outputs": [],
   "source": []
  }
 ],
 "metadata": {
  "kernelspec": {
   "display_name": "machlearn",
   "language": "python",
   "name": "machlearn"
  },
  "language_info": {
   "codemirror_mode": {
    "name": "ipython",
    "version": 3
   },
   "file_extension": ".py",
   "mimetype": "text/x-python",
   "name": "python",
   "nbconvert_exporter": "python",
   "pygments_lexer": "ipython3",
   "version": "3.9.12"
  }
 },
 "nbformat": 4,
 "nbformat_minor": 4
}
