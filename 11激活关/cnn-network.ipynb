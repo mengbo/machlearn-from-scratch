{
 "cells": [
  {
   "cell_type": "markdown",
   "metadata": {},
   "source": [
    "# 零基础实战机器学习\n",
    "\n",
    "第13讲 CNN对鲜花图片分类 作者 黄佳\n",
    "\n",
    "极客时间专栏链接：https://time.geekbang.org/column/intro/438\n",
    "\n",
    "问题：通过卷积神经网络为鲜花图片分类。"
   ]
  },
  {
   "cell_type": "code",
   "execution_count": null,
   "metadata": {
    "_cell_guid": "b1076dfc-b9ad-4769-8c92-a6c4dae69d19",
    "_uuid": "8f2839f25d086af736a60e9eeb907d3b93b6e0e5"
   },
   "outputs": [],
   "source": [
    "import numpy as np # 导入Numpy\n",
    "import pandas as pd # 导入Pandas\n",
    "import os # 导入OS\n",
    "import cv2 # 导入Open CV工具箱\n",
    "\n",
    "print(os.listdir('../input/flowers-recognition/flowers')) #打印目录结构\n",
    "daisy_dir='../input/flowers-recognition/flowers/daisy' #雏菊目录\n",
    "rose_dir='../input/flowers-recognition/flowers/rose' #玫瑰目录\n",
    "sunflower_dir='../input/flowers-recognition/flowers/sunflower' #向日葵目录\n",
    "tulip_dir='../input/flowers-recognition/flowers/tulip' #郁金香目录\n",
    "\n",
    "X = [] #初始化\n",
    "y_label = [] #初始化\n",
    "imgsize = 150 #图片大小\n",
    "# 定义一个函数读入花的图片\n",
    "def training_data(label,data_dir):\n",
    "    print (\"正在读入：\", data_dir) \n",
    "    for img in os.listdir(data_dir): #目录\n",
    "        path = os.path.join(data_dir,img) #目录+文件名\n",
    "        img = cv2.imread(path,cv2.IMREAD_COLOR) #读入图片\n",
    "        img = cv2.resize(img,(imgsize,imgsize)) #设定图片像素维度\n",
    "        X.append(np.array(img)) #X特征集\n",
    "        y_label.append(str(label)) #y标签，即花的类别\n",
    "# 读入目录中的图片\n",
    "training_data('daisy',daisy_dir) #读入雏菊\n",
    "training_data('rose',rose_dir) #读入玫瑰\n",
    "training_data('sunflower',sunflower_dir) #读入向日葵\n",
    "training_data('tulip',tulip_dir) #读入郁金香"
   ]
  },
  {
   "cell_type": "code",
   "execution_count": null,
   "metadata": {},
   "outputs": [],
   "source": [
    "import matplotlib.pyplot as plt # 导入matplotlib\n",
    "import random as rdm # 导入随机数工具\n",
    "# 随机显示几张漂亮的花朵图片吧\n",
    "fig,ax=plt.subplots(5,2) #画布\n",
    "fig.set_size_inches(15,15) #大小\n",
    "for i in range(5):\n",
    "    for j in range (2):\n",
    "        r=rdm.randint(0,len(X)) #随机选择图片\n",
    "        ax[i,j].imshow(X[r]) #显示图片\n",
    "        ax[i,j].set_title('Flower: '+y_label[r]) #花的类别\n",
    "plt.tight_layout() #绘图"
   ]
  },
  {
   "cell_type": "code",
   "execution_count": null,
   "metadata": {},
   "outputs": [],
   "source": [
    "from sklearn.preprocessing import LabelEncoder # 导入标签编码工具\n",
    "from tensorflow.keras.utils import to_categorical # 导入One-hot编码工具\n",
    "label_encoder = LabelEncoder()\n",
    "y = label_encoder.fit_transform(y_label) # 标签编码\n",
    "y = to_categorical(y,4) # 将标签转换为One-hot编码\n",
    "X = np.array(X) # 将X从列表转换为张量数组"
   ]
  },
  {
   "cell_type": "code",
   "execution_count": null,
   "metadata": {},
   "outputs": [],
   "source": [
    "y #看一看y张量什么样，这是分类标签"
   ]
  },
  {
   "cell_type": "code",
   "execution_count": null,
   "metadata": {},
   "outputs": [],
   "source": [
    "X = X/255 # 将X张量归一化"
   ]
  },
  {
   "cell_type": "code",
   "execution_count": null,
   "metadata": {},
   "outputs": [],
   "source": [
    "from sklearn.model_selection import train_test_split # 导入拆分工具\n",
    "X_train, X_test, y_train, y_test = train_test_split(X, y, #拆分数据集\n",
    "                             test_size=0.2,random_state=1)"
   ]
  },
  {
   "cell_type": "code",
   "execution_count": null,
   "metadata": {},
   "outputs": [],
   "source": [
    "from tensorflow.keras import layers # 导入所有层 行1\n",
    "from tensorflow.keras import models # 导入所有模型 行2\n",
    "cnn = models.Sequential() # 贯序模型 行3\n",
    "cnn.add(layers.Conv2D(32, (3, 3), activation='relu', # 输入卷积层 行4\n",
    "                        input_shape=(150, 150, 3))) \n",
    "cnn.add(layers.MaxPooling2D((2, 2))) # 最大池化层 行5\n",
    "cnn.add(layers.Conv2D(64, (3, 3), activation='relu')) # 卷积层 行6\n",
    "cnn.add(layers.MaxPooling2D((2, 2))) # 最大池化层 行7\n",
    "cnn.add(layers.Conv2D(128, (3, 3), activation='relu')) # 卷积层 行8\n",
    "cnn.add(layers.MaxPooling2D((2, 2))) # 最大池化层 行9\n",
    "cnn.add(layers.Conv2D(128, (3, 3), activation='relu')) # 卷积层 行10\n",
    "cnn.add(layers.MaxPooling2D((2, 2))) # 最大池化层 行11\n",
    "cnn.add(layers.Flatten()) # 展平层 行12\n",
    "cnn.add(layers.Dense(512, activation='relu')) # 全连接层 行13\n",
    "cnn.add(layers.Dense(4, activation='softmax')) # 分类输出层 行14\n",
    "cnn.compile(loss='categorical_crossentropy', # 损失函数 行15\n",
    "            optimizer='RMSprop', # 优化器\n",
    "            metrics=['acc']) # 评估指标"
   ]
  },
  {
   "cell_type": "code",
   "execution_count": null,
   "metadata": {
    "scrolled": true
   },
   "outputs": [],
   "source": [
    "from IPython.display import SVG # 实现神经网络结构的图形化显示\n",
    "from tensorflow.keras.utils import model_to_dot # 导入model_to_dot工具\n",
    "SVG(model_to_dot(cnn, show_shapes=True, dpi=65).create(prog='dot', format='svg')) # 绘图"
   ]
  },
  {
   "cell_type": "code",
   "execution_count": null,
   "metadata": {},
   "outputs": [],
   "source": [
    "# 训练网络并把训练过程信息存入history对象\n",
    "history = cnn.fit(X_train,y_train, #训练数据\n",
    "                  epochs=30, #训练轮次（梯度下降）\n",
    "                  validation_split=0.2) #训练的同时进行验证"
   ]
  },
  {
   "cell_type": "code",
   "execution_count": null,
   "metadata": {},
   "outputs": [],
   "source": [
    "def show_history(history): # 显示训练过程中的学习曲线\n",
    "    loss = history.history['loss'] #训练损失\n",
    "    val_loss = history.history['val_loss'] #验证损失\n",
    "    epochs = range(1, len(loss) + 1) #训练轮次\n",
    "    plt.figure(figsize=(12,4)) # 图片大小\n",
    "    plt.subplot(1, 2, 1) #子图1\n",
    "    plt.plot(epochs, loss, 'bo', label='Training loss') #训练损失\n",
    "    plt.plot(epochs, val_loss, 'b', label='Validation loss') #验证损失\n",
    "    plt.title('Training and validation loss') #图题\n",
    "    plt.xlabel('Epochs') #X轴文字\n",
    "    plt.ylabel('Loss') #Y轴文字\n",
    "    plt.legend() #图例\n",
    "    acc = history.history['acc'] #训练准确率\n",
    "    val_acc = history.history['val_acc'] #验证准确率\n",
    "    plt.subplot(1, 2, 2) #子图2\n",
    "    plt.plot(epochs, acc, 'bo', label='Training acc') #训练准确率\n",
    "    plt.plot(epochs, val_acc, 'b', label='Validation acc') #验证准确率\n",
    "    plt.title('Training and validation accuracy') #图题\n",
    "    plt.xlabel('Epochs') #X轴文字\n",
    "    plt.ylabel('Accuracy') #Y轴文字\n",
    "    plt.legend() #图例\n",
    "    plt.show() #绘图\n",
    "show_history(history) # 调用这个函数"
   ]
  },
  {
   "cell_type": "code",
   "execution_count": null,
   "metadata": {},
   "outputs": [],
   "source": [
    "result = cnn.evaluate(X_test, y_test) #评估测试集上的准确率\n",
    "print('CNN的测试准确率为',\"{0:.2f}%\".format(result[1]))"
   ]
  },
  {
   "cell_type": "code",
   "execution_count": null,
   "metadata": {},
   "outputs": [],
   "source": [
    "prediction = cnn.predict(X_test) #预测测试集的图片分类"
   ]
  },
  {
   "cell_type": "code",
   "execution_count": null,
   "metadata": {},
   "outputs": [],
   "source": [
    "prediction[0] #第一张图片的分类"
   ]
  },
  {
   "cell_type": "code",
   "execution_count": null,
   "metadata": {
    "tags": []
   },
   "outputs": [],
   "source": [
    "print('第一张测试图片的分类结果为:', np.argmax(prediction[0]))"
   ]
  }
 ],
 "metadata": {
  "kernelspec": {
   "display_name": "machlearn",
   "language": "python",
   "name": "machlearn"
  },
  "language_info": {
   "codemirror_mode": {
    "name": "ipython",
    "version": 3
   },
   "file_extension": ".py",
   "mimetype": "text/x-python",
   "name": "python",
   "nbconvert_exporter": "python",
   "pygments_lexer": "ipython3",
   "version": "3.9.12"
  }
 },
 "nbformat": 4,
 "nbformat_minor": 4
}
